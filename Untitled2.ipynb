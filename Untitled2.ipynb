{
 "cells": [
  {
   "cell_type": "code",
   "execution_count": 4,
   "id": "eee6405b-f758-4c09-8813-55b3fe20270a",
   "metadata": {},
   "outputs": [],
   "source": [
    "def main():\n",
    "    # Load the Excel file using 'openpyxl' as the engine\n",
    "    xl = pd.ExcelFile(\"Latest Report.xlsx\", engine='openpyxl')\n",
    "    \n",
    "    # Dictionary to store the aggregated data for each player\n",
    "    agg_data = {}\n",
    "    \n",
    "    # Loop through each sheet and read the data into a DataFrame\n",
    "    for sheet in xl.sheet_names:\n",
    "        df = pd.read_excel(xl, sheet_name=sheet, skiprows=8, engine='openpyxl')\n",
    "        \n",
    "        # Print the column names for debugging\n",
    "        print(f\"Columns in sheet {sheet}: {df.columns.tolist()}\")\n",
    "        \n",
    "        # Continue with the rest of your code here...\n"
   ]
  }
 ],
 "metadata": {
  "kernelspec": {
   "display_name": "Python 3",
   "language": "python",
   "name": "python3"
  },
  "language_info": {
   "codemirror_mode": {
    "name": "ipython",
    "version": 3
   },
   "file_extension": ".py",
   "mimetype": "text/x-python",
   "name": "python",
   "nbconvert_exporter": "python",
   "pygments_lexer": "ipython3",
   "version": "3.7.13"
  }
 },
 "nbformat": 4,
 "nbformat_minor": 5
}
